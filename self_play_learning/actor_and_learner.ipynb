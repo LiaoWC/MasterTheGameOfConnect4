{
 "cells": [
  {
   "cell_type": "markdown",
   "metadata": {
    "collapsed": true,
    "pycharm": {
     "name": "#%% md\n"
    }
   },
   "source": [
    "### Import and some functions"
   ]
  },
  {
   "cell_type": "code",
   "execution_count": 64,
   "outputs": [
    {
     "name": "stdout",
     "output_type": "stream",
     "text": [
      "[Errno 2] No such file or directory: 'IPYNB_PATH'\n",
      "/home/smallfish/repo/MasterTheGameOfConnect4\n"
     ]
    }
   ],
   "source": [
    "IPYNB_PATH = './'\n",
    "%cd IPYNB_PATH"
   ],
   "metadata": {
    "collapsed": false,
    "pycharm": {
     "name": "#%%\n"
    }
   }
  },
  {
   "cell_type": "code",
   "execution_count": 65,
   "outputs": [],
   "source": [
    "from mcts_with_simulation import MCTS, NN3DConnect4, State\n",
    "import os\n",
    "import time\n",
    "import torch\n",
    "import json\n",
    "from typing import List\n",
    "from datetime import datetime\n",
    "from torch.utils.data import Dataset, DataLoader\n",
    "from torch.utils.tensorboard import SummaryWriter\n",
    "\n",
    "def get_filenames(dir_path) -> List[str]:\n",
    "    filenames = []\n",
    "    for roots, dirs, files in os.walk(dir_path):\n",
    "        for file in files:\n",
    "            filenames.append(file)\n",
    "    return filenames\n"
   ],
   "metadata": {
    "collapsed": false,
    "pycharm": {
     "name": "#%%\n"
    }
   }
  },
  {
   "cell_type": "markdown",
   "source": [
    "### Hyper-parameters and Constants"
   ],
   "metadata": {
    "collapsed": false,
    "pycharm": {
     "name": "#%% md\n"
    }
   }
  },
  {
   "cell_type": "code",
   "execution_count": 66,
   "outputs": [],
   "source": [
    "CONFIG_PATH = 'config.yaml'\n",
    "CONFIG = {\n",
    "    'path': {\n",
    "        'models_dir': 'models/',\n",
    "        'not_trained_trajectories': 'not_trained_trajectories/',\n",
    "        'trained_trajectories': 'trained_trajectories/',\n",
    "        'logs_dir': 'logs/'},\n",
    "    'model': {\n",
    "        'channels': 16,\n",
    "        'blocks': 4},\n",
    "    'self_play': {\n",
    "        'temperature_drop': 30,\n",
    "        'mcts_time_limit': 99999,\n",
    "        'mcts_max_simulation_cnt': 3},\n",
    "    'train': {\n",
    "        'batch_size': 64,\n",
    "        'frequency': 128,\n",
    "        'reuse': 1,\n",
    "        'buf_size': 6400,\n",
    "        'learning_rate': 0.08}}\n",
    "DEVICE = torch.device(\"cuda:0\" if torch.cuda.is_available() else \"cpu\")\n",
    "\n",
    "def get_latest_model_path(return_number: bool = False):\n",
    "    # Rule of model filename: number(5 digits) + .pt\n",
    "    filenames = get_filenames(CONFIG['path']['models_dir'])\n",
    "    if len(filenames) == 0:\n",
    "        if return_number:\n",
    "            return None, None\n",
    "        else:\n",
    "            return None\n",
    "    file_numbers = [int(filename.split('.')[-2]) for filename in filenames]\n",
    "    latest_number = max(file_numbers)\n",
    "    latest_path = os.path.join(CONFIG['path']['models_dir'],  '{:05d}'.format(latest_number) + '.pt')\n",
    "    if return_number:\n",
    "        return latest_path, latest_number\n",
    "    else:\n",
    "        return latest_path\n"
   ],
   "metadata": {
    "collapsed": false,
    "pycharm": {
     "name": "#%%\n"
    }
   }
  },
  {
   "cell_type": "markdown",
   "source": [
    "### Learner"
   ],
   "metadata": {
    "collapsed": false,
    "pycharm": {
     "name": "#%% md\n"
    }
   }
  },
  {
   "cell_type": "code",
   "execution_count": 67,
   "outputs": [],
   "source": [
    "class ReplayBuffer(Dataset):\n",
    "    def __init__(self, buf_size, frequency):\n",
    "        self.buf_size = buf_size\n",
    "        self.frequency = frequency\n",
    "        self.data = []\n",
    "\n",
    "    def __len__(self):\n",
    "        return len(self.data)\n",
    "\n",
    "    def __getitem__(self, index):\n",
    "        return self.data[index]\n",
    "\n",
    "    def add_trajectories(self, trajectories: List[dict]):\n",
    "        for trajectory in trajectories:\n",
    "            boards = trajectory['boards']\n",
    "            properties = trajectory['properties']\n",
    "            hands = trajectory['hands']\n",
    "            distributions_2d = trajectory['distributions_2d']\n",
    "            winner = trajectory['winner']\n",
    "\n",
    "            # Get each state's complete information\n",
    "            for idx in range(len(boards)):\n",
    "                input_tensor_3d, input_tensor_scalar = MCTS.observation_tensors(board=boards[idx], properties=properties[idx], hands=hands[idx])\n",
    "                policy_target_tensor_2d = torch.tensor(distributions_2d[idx])\n",
    "                # Get reward\n",
    "                if winner == 0:\n",
    "                    reward = 0.\n",
    "                elif winner == 1:\n",
    "                    if hands[idx] % 2 == 0:\n",
    "                        reward = 1\n",
    "                    else:\n",
    "                        reward = 0\n",
    "                elif winner == 2:\n",
    "                    if hands[idx] % 2 ==0:\n",
    "                        reward = 0\n",
    "                    else:\n",
    "                        reward = 1\n",
    "                else:\n",
    "                    raise ValueError('Invalid winner: {}'.format(winner))\n",
    "                reward_tensor_1d = torch.tensor([reward])\n",
    "                #\n",
    "                self.data.append((input_tensor_3d, input_tensor_scalar, policy_target_tensor_2d, reward_tensor_1d))\n",
    "                # Full\n",
    "                if len(self.data) > self.buf_size:\n",
    "                    self.data.pop(0)"
   ],
   "metadata": {
    "collapsed": false,
    "pycharm": {
     "name": "#%%\n"
    }
   }
  },
  {
   "cell_type": "code",
   "execution_count": 68,
   "outputs": [],
   "source": [
    "class Learner:\n",
    "    def __init__(self, replay_buffer):\n",
    "        # Find the latest pt file\n",
    "        latest_model_path, latest_number = get_latest_model_path(return_number=True)\n",
    "        self.iteration = (latest_number + 1) if latest_number else 0\n",
    "        self.model = NN3DConnect4(features_3d_in_channels=4,\n",
    "                             features_scalar_in_channels=4,\n",
    "                             channels=CONFIG['model']['channels'],\n",
    "                             blocks=CONFIG['model']['blocks'])\n",
    "        if not latest_model_path:\n",
    "            self.save_model()\n",
    "        else:\n",
    "            self.model.load_state_dict(torch.load(latest_model_path))\n",
    "        self.model.to(DEVICE)\n",
    "        self.optimizer = torch.optim.SGD(params=self.model.parameters(),\n",
    "                                    lr=CONFIG['train']['learning_rate'],\n",
    "                                    momentum=0.9,\n",
    "                                    weight_decay=0.0001,\n",
    "                                    nesterov=True)\n",
    "        self.replay_buffer: ReplayBuffer = replay_buffer\n",
    "        self.summary_writer = SummaryWriter(log_dir=CONFIG['path']['logs_dir'], purge_step=self.iteration)\n",
    "\n",
    "    def save_model(self):\n",
    "        filename = '{:05d}.pt'.format(self.iteration)\n",
    "        torch.save(self.model.state_dict(), f= os.path.join(CONFIG['path']['models_dir'], filename))\n",
    "\n",
    "    def train(self):\n",
    "        self.iteration += 1\n",
    "        data_loader = DataLoader(dataset=self.replay_buffer,\n",
    "                                 batch_size=CONFIG['train']['batch_size'],\n",
    "                                 shuffle=True)\n",
    "        self.model.train()\n",
    "        for i, data in enumerate(data_loader):\n",
    "            input_tensor_3d, input_tensor_scalar, policy_target, value_target = data\n",
    "            policy_target = policy_target.to(DEVICE)\n",
    "            value_target = value_target.to(DEVICE)\n",
    "\n",
    "            self.model.zero_grad()\n",
    "            policy, value = self.model.forward(input_tensor_3d.float(), input_tensor_scalar.float())\n",
    "\n",
    "            policy_loss = (-policy_target.view(-1, State.HEIGHT * State.WIDTH) * (1e-8+policy).log()).sum(dim=1).mean()\n",
    "            value_loss = torch.nn.MSELoss()(value_target, value)\n",
    "            loss = policy_loss + value_loss\n",
    "\n",
    "            print(\"Iteration {} loss: {}\".format(self.iteration, loss))\n",
    "\n",
    "            loss.backward()\n",
    "            self.optimizer.step()\n",
    "\n",
    "            assert CONFIG['train']['frequency'] % CONFIG['train']['batch_size'] == 0\n",
    "            if (i + 1 ) >= (CONFIG['train']['frequency'] * CONFIG['train']['reuse'] // CONFIG['train']['batch_size']):\n",
    "                lr = next(iter(self.optimizer.param_groups))['lr']\n",
    "                self.summary_writer.add_scalar('train_param/lr', lr, self.iteration)\n",
    "                self.summary_writer.add_scalar('train_param/batch_size', CONFIG['train']['batch_size'], self.iteration)\n",
    "                self.summary_writer.add_scalar('train_param/frequency', CONFIG['train']['frequency'], self.iteration)\n",
    "                self.summary_writer.add_scalar('train_param/reuse', CONFIG['train']['reuse'], self.iteration)\n",
    "                self.summary_writer.add_scalar('train_param/buf_size', CONFIG['train']['buf_size'], self.iteration)\n",
    "                self.summary_writer.add_scalar('model/channels', CONFIG['model']['channels'], self.iteration)\n",
    "                self.summary_writer.add_scalar('model/blocks', CONFIG['model']['blocks'], self.iteration)\n",
    "                self.summary_writer.add_scalar('self_play/temperature_drop', CONFIG['self_play']['temperature_drop'], self.iteration)\n",
    "                self.summary_writer.add_scalar('self_play/mcts_time_limit', CONFIG['self_play']['mcts_time_limit'], self.iteration)\n",
    "                self.summary_writer.add_scalar('self_play/mcts_max_simulation_cnt', CONFIG['self_play']['mcts_max_simulation_cnt'], self.iteration)\n",
    "                self.summary_writer.add_scalar('loss/total_loss', loss, self.iteration)\n",
    "                self.summary_writer.add_scalar('loss/policy_loss', policy_loss, self.iteration)\n",
    "                self.summary_writer.add_scalar('loss/value_loss', value_loss, self.iteration)\n",
    "                break\n",
    "        self.save_model()\n"
   ],
   "metadata": {
    "collapsed": false,
    "pycharm": {
     "name": "#%%\n"
    }
   }
  },
  {
   "cell_type": "markdown",
   "source": [
    "### Actor\n",
    "- A game contains 64 states.\n",
    "- Number of games everytime actor plays: frequency / 64\n",
    "- In each training, feed total \"frequency\" data, using split into batches to feed. After one \\\n",
    "    this process, we call it a step.\n",
    "- If buffer is full, when a new game finished, oldest one will be removed from buf. (They're still in the filesystem.)"
   ],
   "metadata": {
    "collapsed": false,
    "pycharm": {
     "name": "#%% md\n"
    }
   }
  },
  {
   "cell_type": "code",
   "execution_count": 69,
   "outputs": [],
   "source": [
    "def actor() -> List[dict]:\n",
    "    \"\"\"\n",
    "\n",
    "    :return: Trajectories (List of trajectory dicts)\n",
    "    \"\"\"\n",
    "    assert CONFIG['train']['frequency'] % CONFIG['train']['batch_size'] == 0\n",
    "    #####################\n",
    "    # Fetch newest model\n",
    "    #####################\n",
    "    model = NN3DConnect4(features_3d_in_channels=4,\n",
    "                         features_scalar_in_channels=4,\n",
    "                         channels=CONFIG['model']['channels'],\n",
    "                         blocks=CONFIG['model']['blocks'])\n",
    "    # Find the .pt file\n",
    "    while True:\n",
    "        latest_model_path = get_latest_model_path()\n",
    "        if latest_model_path and os.path.exists(latest_model_path):\n",
    "            model.load_state_dict(torch.load(latest_model_path))\n",
    "            break\n",
    "        else:\n",
    "            # Fetch again after a while\n",
    "            print('Find no latest pt model file...(wait for a while)')\n",
    "            time.sleep(5)\n",
    "            continue\n",
    "    ######################\n",
    "    trajectories = []\n",
    "    for _ in range(CONFIG['train']['frequency'] // CONFIG['train']['batch_size']):\n",
    "\n",
    "        #######################\n",
    "        # Self-play a game\n",
    "        #######################\n",
    "        cur_node = MCTS.get_init_node()\n",
    "        boards = []\n",
    "        properties = []\n",
    "        hands = []\n",
    "        distributions_2d = []\n",
    "        winner = 0 # 0 means draw; 1 means black win; 2 means white win\n",
    "        while True:\n",
    "            # Check if terminal\n",
    "            if cur_node.hands >= 64:\n",
    "                # Check who win\n",
    "                if cur_node.properties[0] > cur_node.properties[1]:\n",
    "                    winner = 1\n",
    "                elif cur_node.properties[0] < cur_node.properties[1]:\n",
    "                    winner = 2\n",
    "                break\n",
    "            # Record\n",
    "            hands.append(cur_node.hands)\n",
    "            boards.append(cur_node.board.tolist())\n",
    "            properties.append(cur_node.properties)\n",
    "            # Self-play\n",
    "            mcts = MCTS(root_node=cur_node,\n",
    "                        eval_func='nn',\n",
    "                        model=model,\n",
    "                        device=DEVICE,\n",
    "                        max_time_sec=CONFIG['self_play']['mcts_time_limit'],\n",
    "                        max_simulation_cnt=CONFIG['self_play']['mcts_max_simulation_cnt'],\n",
    "                        not_greedy=True if cur_node.hands <= CONFIG['self_play']['temperature_drop'] else False)\n",
    "            move, sim_cnt, time_used = mcts.run(return_simulation_cnt=True, return_time_used=True)\n",
    "            distributions_2d.append(mcts.get_root_child_distribution_2d(normalize=True).tolist())\n",
    "            print('{}({:.2f}sec)'.format( cur_node.hands, time_used), end=' ')\n",
    "            cur_node = cur_node.get_node_after_playing(move=move)\n",
    "        ####################\n",
    "        # Save the trajectory\n",
    "        ####################\n",
    "        # Make dictionary to store trajectory information\n",
    "        trajectory = {'boards': boards,\n",
    "                      'properties': properties,\n",
    "                      'hands': hands,\n",
    "                      'distributions_2d': distributions_2d,\n",
    "                      'winner': winner}\n",
    "        # Use current time to be part of the filename (Low prob to collision)\n",
    "        output_filename = datetime.now().strftime('%Y_%m_%d_%H_%M_%S') + '.json'\n",
    "        output_path = os.path.join(CONFIG['path']['not_trained_trajectories'], output_filename)\n",
    "        with open(output_path, 'w+') as file:\n",
    "            json.dump(trajectory, file)\n",
    "        trajectories.append(trajectory)\n",
    "    return trajectories\n"
   ],
   "metadata": {
    "collapsed": false,
    "pycharm": {
     "name": "#%%\n"
    }
   }
  },
  {
   "cell_type": "markdown",
   "source": [
    "### Main Controller"
   ],
   "metadata": {
    "collapsed": false,
    "pycharm": {
     "name": "#%% md\n"
    }
   }
  },
  {
   "cell_type": "code",
   "execution_count": 70,
   "outputs": [
    {
     "name": "stdout",
     "output_type": "stream",
     "text": [
      "0(0.21sec) 1(0.22sec) 2(0.13sec) 3(0.14sec) 4(0.04sec) 5(0.06sec) 6(0.18sec) 7(0.12sec) 8(0.13sec) 9(0.07sec) 10(0.07sec) 11(0.05sec) 12(0.10sec) 13(0.04sec) 14(0.03sec) 15(0.03sec) 16(0.04sec) 17(0.03sec) 18(0.03sec) 19(0.03sec) 20(0.06sec) 21(0.78sec) 22(0.11sec) 23(0.10sec) 24(0.05sec) 25(0.03sec) 26(0.03sec) 27(0.03sec) 28(0.03sec) 29(0.03sec) 30(0.06sec) 31(0.17sec) 32(0.12sec) 33(0.12sec) 34(0.05sec) 35(0.05sec) 36(0.03sec) 37(0.13sec) 38(0.13sec) 39(0.09sec) 40(0.14sec) 41(0.10sec) 42(0.04sec) 43(0.11sec) 44(0.10sec) 45(0.07sec) 46(0.08sec) 47(0.09sec) 48(0.02sec) 49(0.03sec) 50(0.03sec) 51(0.03sec) 52(0.04sec) 53(0.02sec) 54(0.02sec) 55(0.04sec) 56(0.03sec) 57(0.02sec) 58(0.02sec) 59(0.02sec) 60(0.02sec) 61(0.02sec) 62(0.02sec) 63(0.02sec) 0(0.03sec) 1(0.02sec) 2(0.10sec) 3(0.06sec) 4(0.05sec) 5(0.05sec) 6(0.03sec) 7(0.05sec) 8(0.17sec) 9(0.03sec) 10(0.02sec) 11(0.16sec) 12(0.12sec) 13(0.06sec) 14(0.06sec) 15(0.04sec) 16(0.05sec) 17(0.15sec) 18(0.03sec) 19(0.02sec) 20(0.03sec) 21(0.02sec) 22(0.02sec) 23(0.02sec) 24(0.02sec) 25(0.03sec) 26(0.03sec) 27(0.04sec) 28(0.03sec) 29(0.02sec) 30(0.02sec) 31(0.02sec) 32(0.03sec) 33(0.04sec) 34(0.06sec) 35(0.07sec) 36(0.17sec) 37(0.02sec) 38(0.02sec) 39(0.02sec) 40(0.03sec) 41(0.02sec) 42(0.02sec) 43(0.07sec) 44(0.03sec) 45(0.02sec) 46(0.02sec) 47(0.02sec) 48(0.03sec) 49(0.02sec) 50(0.02sec) 51(0.02sec) 52(0.02sec) 53(0.02sec) 54(0.02sec) 55(0.02sec) 56(0.02sec) 57(0.03sec) 58(0.03sec) 59(0.02sec) 60(0.02sec) 61(0.04sec) 62(0.02sec) 63(0.02sec) Iteration 9 loss: 6.568821907043457\n",
      "Iteration 9 loss: 3.5301575660705566\n",
      "0(0.02sec) 1(0.03sec) 2(0.02sec) 3(0.03sec) 4(0.09sec) 5(0.03sec) 6(0.02sec) 7(0.02sec) 8(0.02sec) 9(0.02sec) 10(0.02sec) 11(0.02sec) 12(0.03sec) 13(0.03sec) 14(0.04sec) 15(0.09sec) 16(0.07sec) 17(0.12sec) 18(0.04sec) 19(0.06sec) 20(0.09sec) 21(0.07sec) 22(0.03sec) 23(0.03sec) 24(0.09sec) 25(0.03sec) 26(0.05sec) 27(0.07sec) 28(0.05sec) 29(0.03sec) 30(0.05sec) 31(0.03sec) 32(0.03sec) 33(0.03sec) 34(0.07sec) 35(0.05sec) 36(0.04sec) 37(0.04sec) 38(0.06sec) 39(0.05sec) 40(0.04sec) 41(0.03sec) 42(0.03sec) 43(0.04sec) 44(0.02sec) 45(0.02sec) 46(0.02sec) 47(0.02sec) 48(0.02sec) 49(0.02sec) 50(0.02sec) 51(0.05sec) 52(0.03sec) 53(0.03sec) 54(0.04sec) 55(0.03sec) 56(0.03sec) 57(0.03sec) 58(0.04sec) 59(0.03sec) 60(0.03sec) 61(0.02sec) 62(0.03sec) 63(0.06sec) 0(0.03sec) 1(0.03sec) 2(0.02sec) 3(0.03sec) 4(0.02sec) 5(0.03sec) 6(0.02sec) 7(0.03sec) 8(0.04sec) 9(0.03sec) 10(0.03sec) 11(0.03sec) 12(0.02sec) 13(0.02sec) 14(0.04sec) 15(0.09sec) 16(0.05sec) 17(0.05sec) 18(0.05sec) 19(0.09sec) 20(0.07sec) 21(0.09sec) 22(0.04sec) 23(0.10sec) 24(0.04sec) 25(0.02sec) 26(0.02sec) 27(0.02sec) 28(0.02sec) 29(0.02sec) 30(0.02sec) 31(0.03sec) 32(0.02sec) 33(0.02sec) 34(0.02sec) 35(0.02sec) 36(0.02sec) 37(0.02sec) 38(0.02sec) 39(0.02sec) 40(0.03sec) 41(0.03sec) 42(0.05sec) 43(0.03sec) 44(0.07sec) 45(0.05sec) 46(0.04sec) 47(0.07sec) 48(0.07sec) 49(0.02sec) 50(0.03sec) 51(0.02sec) 52(0.03sec) 53(0.02sec) 54(0.02sec) 55(0.02sec) 56(0.02sec) 57(0.02sec) 58(0.02sec) 59(0.02sec) 60(0.04sec) 61(0.03sec) 62(0.03sec) 63(0.02sec) Iteration 10 loss: 3.7851810455322266\n",
      "Iteration 10 loss: 3.662029266357422\n",
      "0(0.03sec) 1(0.02sec) 2(0.02sec) 3(0.03sec) 4(0.02sec) 5(0.03sec) 6(0.02sec) 7(0.02sec) 8(0.05sec) 9(0.03sec) 10(0.03sec) 11(0.02sec) 12(0.04sec) 13(0.07sec) 14(0.04sec) 15(0.04sec) 16(0.03sec) 17(0.11sec) 18(0.15sec) 19(0.13sec) 20(0.11sec) 21(0.11sec) 22(0.02sec) 23(0.04sec) 24(0.19sec) 25(0.35sec) 26(0.20sec) 27(0.12sec) 28(0.03sec) 29(0.03sec) 30(0.03sec) 31(0.03sec) 32(0.02sec) 33(0.02sec) 34(0.02sec) 35(0.02sec) 36(0.02sec) 37(0.02sec) 38(0.02sec) 39(0.04sec) 40(0.03sec) 41(0.02sec) 42(0.02sec) 43(0.02sec) 44(0.02sec) 45(0.02sec) 46(0.02sec) 47(0.05sec) 48(0.04sec) 49(0.20sec) 50(0.07sec) 51(0.03sec) 52(0.04sec) 53(0.03sec) 54(0.07sec) 55(0.03sec) 56(0.05sec) 57(0.11sec) 58(0.13sec) 59(0.08sec) 60(0.03sec) 61(0.04sec) 62(0.02sec) 63(0.07sec) 0(0.04sec) 1(0.05sec) 2(0.05sec) 3(0.04sec) 4(0.03sec) 5(0.02sec) 6(0.03sec) 7(0.03sec) 8(0.02sec) 9(0.03sec) 10(0.02sec) 11(0.03sec) 12(0.03sec) 13(0.05sec) 14(0.06sec) 15(0.20sec) 16(0.04sec) 17(0.04sec) 18(0.13sec) 19(0.13sec) 20(0.03sec) 21(0.06sec) 22(0.05sec) 23(0.05sec) 24(0.05sec) 25(0.06sec) 26(0.11sec) 27(0.04sec) 28(0.07sec) 29(0.04sec) 30(0.03sec) 31(0.04sec) 32(0.15sec) 33(0.14sec) 34(0.41sec) 35(0.38sec) 36(0.07sec) 37(0.09sec) 38(0.29sec) 39(0.08sec) 40(0.25sec) 41(0.26sec) 42(0.03sec) 43(0.03sec) 44(0.07sec) 45(0.16sec) 46(0.12sec) 47(0.06sec) 48(0.09sec) 49(0.07sec) 50(0.06sec) 51(0.06sec) 52(0.07sec) 53(0.03sec) 54(0.02sec) 55(0.02sec) 56(0.02sec) 57(0.02sec) 58(0.02sec) 59(0.04sec) 60(0.06sec) 61(0.03sec) 62(0.02sec) 63(0.02sec) Iteration 11 loss: 3.5613365173339844\n",
      "Iteration 11 loss: 3.458383321762085\n",
      "0(0.05sec) 1(0.04sec) 2(0.03sec) 3(0.03sec) 4(0.03sec) 5(0.04sec) 6(0.06sec) 7(0.05sec) 8(0.05sec) 9(0.03sec) 10(0.03sec) 11(0.02sec) 12(0.16sec) 13(0.10sec) 14(0.12sec) 15(0.13sec) 16(0.15sec) 17(0.10sec) 18(0.11sec) 19(0.07sec) 20(0.07sec) 21(0.05sec) 22(0.04sec) 23(0.02sec) 24(0.02sec) 25(0.02sec) 26(0.04sec) 27(0.06sec) 28(0.08sec) 29(0.06sec) 30(0.10sec) 31(0.07sec) 32(0.04sec) 33(0.03sec) 34(0.06sec) 35(0.03sec) 36(0.04sec) 37(0.08sec) 38(0.06sec) 39(0.08sec) 40(0.07sec) 41(0.07sec) 42(0.07sec) 43(0.08sec) 44(0.04sec) 45(0.03sec) 46(0.05sec) 47(0.05sec) 48(0.04sec) 49(0.06sec) 50(0.03sec) 51(0.03sec) 52(0.05sec) 53(0.08sec) 54(0.03sec) 55(0.06sec) 56(0.06sec) 57(0.02sec) 58(0.02sec) 59(0.03sec) 60(0.02sec) 61(0.02sec) 62(0.03sec) 63(0.03sec) 0(0.03sec) 1(0.03sec) 2(0.08sec) 3(0.03sec) 4(0.03sec) 5(0.03sec) 6(0.03sec) 7(0.05sec) 8(0.05sec) 9(0.03sec) 10(0.03sec) 11(0.02sec) 12(0.05sec) 13(0.04sec) 14(0.04sec) 15(0.06sec) 16(0.07sec) 17(0.08sec) 18(0.15sec) 19(0.20sec) 20(0.04sec) 21(0.05sec) 22(0.20sec) 23(0.09sec) 24(0.06sec) 25(0.09sec) 26(0.09sec) 27(0.30sec) 28(0.06sec) 29(0.03sec) 30(0.21sec) 31(0.03sec) 32(0.04sec) 33(0.06sec) 34(0.06sec) 35(0.08sec) 36(0.06sec) 37(0.09sec) 38(0.14sec) 39(0.12sec) 40(0.05sec) 41(0.16sec) 42(0.04sec) 43(0.17sec) 44(0.07sec) 45(0.12sec) 46(0.05sec) 47(0.04sec) 48(0.03sec) 49(0.05sec) 50(0.04sec) 51(0.03sec) 52(0.04sec) 53(0.03sec) 54(0.10sec) 55(0.06sec) 56(0.04sec) 57(0.05sec) 58(0.07sec) 59(0.04sec) 60(0.08sec) 61(0.05sec) 62(0.03sec) 63(0.04sec) Iteration 12 loss: 3.2529489994049072\n",
      "Iteration 12 loss: 2.9022200107574463\n",
      "0(0.05sec) 1(0.24sec) 2(0.09sec) 3(0.06sec) 4(0.14sec) 5(0.07sec) 6(0.08sec) 7(0.13sec) 8(0.04sec) 9(0.03sec) 10(0.04sec) 11(0.04sec) 12(0.10sec) 13(0.07sec) 14(0.11sec) 15(0.09sec) 16(0.05sec) 17(0.08sec) 18(0.05sec) 19(0.11sec) 20(0.09sec) 21(0.35sec) 22(0.84sec) 23(0.14sec) 24(0.07sec) 25(0.07sec) 26(0.05sec) 27(0.03sec) 28(0.24sec) 29(0.08sec) 30(0.06sec) 31(0.07sec) 32(0.04sec) 33(0.04sec) 34(0.05sec) 35(0.05sec) 36(0.04sec) 37(0.06sec) 38(0.14sec) 39(0.22sec) 40(0.23sec) 41(0.12sec) 42(0.17sec) 43(0.11sec) 44(0.08sec) 45(0.08sec) 46(0.06sec) 47(0.05sec) 48(0.08sec) 49(0.07sec) 50(0.04sec) 51(0.06sec) 52(0.05sec) 53(0.03sec) 54(0.04sec) 55(0.04sec) 56(0.04sec) 57(0.03sec) 58(0.03sec) 59(0.03sec) 60(0.04sec) 61(0.04sec) 62(0.04sec) 63(0.03sec) 0(0.04sec) 1(0.08sec) 2(0.04sec) 3(0.04sec) 4(0.06sec) 5(0.04sec) 6(0.05sec) 7(0.06sec) 8(0.04sec) 9(0.06sec) 10(0.05sec) 11(0.05sec) 12(0.06sec) 13(0.08sec) 14(0.15sec) 15(0.39sec) 16(0.25sec) 17(0.12sec) 18(0.06sec) 19(0.06sec) 20(0.08sec) 21(0.35sec) 22(0.31sec) 23(0.06sec) 24(0.05sec) 25(0.13sec) 26(0.08sec) 27(0.11sec) 28(0.09sec) 29(0.03sec) 30(0.03sec) 31(0.08sec) 32(0.12sec) 33(0.06sec) 34(0.08sec) 35(0.09sec) 36(0.08sec) 37(0.05sec) 38(0.05sec) 39(0.12sec) 40(0.06sec) 41(0.05sec) 42(0.03sec) 43(0.03sec) 44(0.14sec) 45(0.13sec) 46(0.14sec) 47(0.08sec) 48(0.11sec) 49(0.09sec) 50(0.05sec) 51(0.05sec) 52(0.07sec) 53(0.07sec) 54(0.05sec) 55(0.05sec) 56(0.06sec) 57(0.04sec) 58(0.10sec) 59(0.10sec) 60(0.09sec) 61(0.11sec) 62(0.08sec) 63(0.05sec) Iteration 13 loss: 3.225369930267334\n",
      "Iteration 13 loss: 4.149225234985352\n",
      "0(0.63sec) 1(0.79sec) 2(1.30sec) 3(0.38sec) 4(0.15sec) 5(0.17sec) 6(0.12sec) 7(0.11sec) 8(0.05sec) 9(0.05sec) 10(0.06sec) 11(0.06sec) 12(0.06sec) 13(0.06sec) 14(0.05sec) 15(0.07sec) 16(0.06sec) 17(0.05sec) 18(0.07sec) 19(0.06sec) 20(0.04sec) 21(0.04sec) 22(0.03sec) 23(0.03sec) 24(0.04sec) 25(0.12sec) 26(0.05sec) 27(0.06sec) 28(0.05sec) 29(0.06sec) 30(0.06sec) 31(0.03sec) 32(0.04sec) 33(0.03sec) 34(0.05sec) 35(0.07sec) 36(0.06sec) 37(0.03sec) 38(0.03sec) 39(0.05sec) 40(0.04sec) 41(0.03sec) 42(0.03sec) 43(0.03sec) 44(0.03sec) 45(0.04sec) 46(0.03sec) 47(0.05sec) 48(0.03sec) 49(0.03sec) 50(0.03sec) 51(0.03sec) 52(0.05sec) 53(0.03sec) 54(0.03sec) 55(0.03sec) 56(0.15sec) 57(0.27sec) 58(0.22sec) 59(0.05sec) 60(0.18sec) 61(0.21sec) 62(0.07sec) 63(0.06sec) 0(0.18sec) 1(0.04sec) 2(0.05sec) 3(0.04sec) 4(0.04sec) 5(0.09sec) 6(0.15sec) 7(0.93sec) 8(0.30sec) 9(0.09sec) 10(0.14sec) 11(0.08sec) 12(0.18sec) 13(0.06sec) 14(0.06sec) 15(0.06sec) 16(0.11sec) 17(0.05sec) 18(0.36sec) 19(0.28sec) 20(0.38sec) 21(0.10sec) 22(0.20sec) 23(0.06sec) 24(0.11sec) 25(0.11sec) 26(0.05sec) 27(0.10sec) 28(0.18sec) 29(0.17sec) 30(0.09sec) 31(0.03sec) 32(0.12sec) 33(0.18sec) 34(0.05sec) 35(0.04sec) 36(0.03sec) 37(0.09sec) 38(0.04sec) 39(0.03sec) 40(0.03sec) 41(0.05sec) 42(0.03sec) 43(0.10sec) 44(0.19sec) 45(0.07sec) 46(0.05sec) 47(0.04sec) 48(0.04sec) 49(0.04sec) 50(0.05sec) 51(0.04sec) 52(0.03sec) 53(0.03sec) 54(0.03sec) 55(0.04sec) 56(0.07sec) 57(0.04sec) 58(0.05sec) 59(0.03sec) 60(0.03sec) 61(0.03sec) 62(0.04sec) 63(0.03sec) Iteration 14 loss: 3.6899218559265137\n",
      "Iteration 14 loss: 3.2692861557006836\n",
      "0(0.04sec) 1(0.05sec) 2(0.07sec) 3(0.06sec) 4(0.07sec) 5(0.05sec) 6(0.05sec) 7(0.05sec) 8(0.09sec) 9(0.20sec) 10(0.16sec) 11(0.06sec) 12(0.24sec) 13(0.08sec) 14(0.16sec) 15(0.11sec) 16(0.05sec) 17(0.48sec) 18(0.65sec) 19(0.30sec) 20(0.05sec) 21(0.05sec) 22(0.13sec) 23(0.14sec) 24(1.86sec) 25(0.28sec) 26(0.07sec) 27(0.07sec) 28(0.08sec) 29(0.17sec) 30(0.06sec) 31(0.06sec) 32(0.07sec) 33(0.04sec) 34(0.05sec) 35(0.03sec) 36(0.03sec) 37(0.06sec) 38(0.09sec) 39(0.06sec) 40(0.08sec) 41(0.04sec) 42(0.12sec) 43(0.06sec) 44(0.04sec) 45(0.08sec) 46(0.06sec) 47(0.05sec) 48(0.05sec) 49(0.03sec) 50(0.05sec) 51(0.06sec) 52(0.04sec) 53(0.03sec) 54(0.11sec) 55(0.29sec) 56(0.24sec) 57(0.06sec) 58(0.05sec) 59(0.07sec) 60(0.17sec) 61(0.12sec) 62(0.25sec) 63(0.28sec) 0(0.05sec) 1(0.21sec) 2(0.30sec) 3(0.33sec) 4(0.35sec) 5(0.05sec) 6(0.07sec) 7(0.06sec) 8(0.07sec) 9(0.05sec) 10(0.05sec) 11(0.32sec) 12(0.30sec) 13(0.06sec) 14(0.08sec) 15(0.12sec) 16(0.04sec) 17(0.04sec) 18(0.04sec) 19(0.03sec) 20(0.03sec) 21(0.05sec) 22(0.04sec) 23(0.03sec) 24(0.04sec) 25(0.03sec) 26(0.03sec) 27(0.04sec) 28(0.03sec) 29(0.03sec) 30(0.04sec) 31(0.03sec) 32(0.04sec) 33(0.04sec) 34(0.04sec) 35(0.04sec) 36(0.03sec) 37(0.04sec) 38(0.03sec) 39(0.04sec) 40(0.03sec) 41(0.04sec) 42(0.05sec) 43(0.04sec) 44(0.06sec) 45(0.04sec) 46(0.04sec) 47(0.06sec) 48(0.06sec) 49(0.06sec) 50(0.03sec) 51(0.05sec) 52(0.04sec) 53(0.04sec) 54(0.06sec) 55(0.03sec) 56(0.03sec) 57(0.04sec) 58(0.03sec) 59(0.04sec) 60(0.05sec) 61(0.03sec) 62(0.03sec) 63(0.03sec) Iteration 15 loss: 3.3755619525909424\n",
      "Iteration 15 loss: 3.2869083881378174\n"
     ]
    },
    {
     "ename": "KeyboardInterrupt",
     "evalue": "",
     "output_type": "error",
     "traceback": [
      "\u001B[0;31m---------------------------------------------------------------------------\u001B[0m",
      "\u001B[0;31mKeyboardInterrupt\u001B[0m                         Traceback (most recent call last)",
      "\u001B[0;32m<ipython-input-70-cb9e135ead28>\u001B[0m in \u001B[0;36m<module>\u001B[0;34m\u001B[0m\n\u001B[1;32m      6\u001B[0m     \u001B[0mlearner\u001B[0m\u001B[0;34m.\u001B[0m\u001B[0mreplay_buffer\u001B[0m\u001B[0;34m.\u001B[0m\u001B[0madd_trajectories\u001B[0m\u001B[0;34m(\u001B[0m\u001B[0mtrajectories\u001B[0m\u001B[0;34m=\u001B[0m\u001B[0mself_play_trajectories\u001B[0m\u001B[0;34m)\u001B[0m\u001B[0;34m\u001B[0m\u001B[0;34m\u001B[0m\u001B[0m\n\u001B[1;32m      7\u001B[0m     \u001B[0;31m#\u001B[0m\u001B[0;34m\u001B[0m\u001B[0;34m\u001B[0m\u001B[0;34m\u001B[0m\u001B[0m\n\u001B[0;32m----> 8\u001B[0;31m     \u001B[0mlearner\u001B[0m\u001B[0;34m.\u001B[0m\u001B[0mtrain\u001B[0m\u001B[0;34m(\u001B[0m\u001B[0;34m)\u001B[0m\u001B[0;34m\u001B[0m\u001B[0;34m\u001B[0m\u001B[0m\n\u001B[0m\u001B[1;32m      9\u001B[0m \u001B[0;34m\u001B[0m\u001B[0m\n\u001B[1;32m     10\u001B[0m \u001B[0;34m\u001B[0m\u001B[0m\n",
      "\u001B[0;32m<ipython-input-68-4032a8d892a0>\u001B[0m in \u001B[0;36mtrain\u001B[0;34m(self)\u001B[0m\n\u001B[1;32m     45\u001B[0m             \u001B[0mprint\u001B[0m\u001B[0;34m(\u001B[0m\u001B[0;34m\"Iteration {} loss: {}\"\u001B[0m\u001B[0;34m.\u001B[0m\u001B[0mformat\u001B[0m\u001B[0;34m(\u001B[0m\u001B[0mself\u001B[0m\u001B[0;34m.\u001B[0m\u001B[0miteration\u001B[0m\u001B[0;34m,\u001B[0m \u001B[0mloss\u001B[0m\u001B[0;34m)\u001B[0m\u001B[0;34m)\u001B[0m\u001B[0;34m\u001B[0m\u001B[0;34m\u001B[0m\u001B[0m\n\u001B[1;32m     46\u001B[0m \u001B[0;34m\u001B[0m\u001B[0m\n\u001B[0;32m---> 47\u001B[0;31m             \u001B[0mloss\u001B[0m\u001B[0;34m.\u001B[0m\u001B[0mbackward\u001B[0m\u001B[0;34m(\u001B[0m\u001B[0;34m)\u001B[0m\u001B[0;34m\u001B[0m\u001B[0;34m\u001B[0m\u001B[0m\n\u001B[0m\u001B[1;32m     48\u001B[0m             \u001B[0mself\u001B[0m\u001B[0;34m.\u001B[0m\u001B[0moptimizer\u001B[0m\u001B[0;34m.\u001B[0m\u001B[0mstep\u001B[0m\u001B[0;34m(\u001B[0m\u001B[0;34m)\u001B[0m\u001B[0;34m\u001B[0m\u001B[0;34m\u001B[0m\u001B[0m\n\u001B[1;32m     49\u001B[0m \u001B[0;34m\u001B[0m\u001B[0m\n",
      "\u001B[0;32m/usr/local/lib/python3.8/dist-packages/torch/tensor.py\u001B[0m in \u001B[0;36mbackward\u001B[0;34m(self, gradient, retain_graph, create_graph)\u001B[0m\n\u001B[1;32m    183\u001B[0m                 \u001B[0mproducts\u001B[0m\u001B[0;34m.\u001B[0m \u001B[0mDefaults\u001B[0m \u001B[0mto\u001B[0m\u001B[0;31m \u001B[0m\u001B[0;31m`\u001B[0m\u001B[0;31m`\u001B[0m\u001B[0;32mFalse\u001B[0m\u001B[0;31m`\u001B[0m\u001B[0;31m`\u001B[0m\u001B[0;34m.\u001B[0m\u001B[0;34m\u001B[0m\u001B[0;34m\u001B[0m\u001B[0m\n\u001B[1;32m    184\u001B[0m         \"\"\"\n\u001B[0;32m--> 185\u001B[0;31m         \u001B[0mtorch\u001B[0m\u001B[0;34m.\u001B[0m\u001B[0mautograd\u001B[0m\u001B[0;34m.\u001B[0m\u001B[0mbackward\u001B[0m\u001B[0;34m(\u001B[0m\u001B[0mself\u001B[0m\u001B[0;34m,\u001B[0m \u001B[0mgradient\u001B[0m\u001B[0;34m,\u001B[0m \u001B[0mretain_graph\u001B[0m\u001B[0;34m,\u001B[0m \u001B[0mcreate_graph\u001B[0m\u001B[0;34m)\u001B[0m\u001B[0;34m\u001B[0m\u001B[0;34m\u001B[0m\u001B[0m\n\u001B[0m\u001B[1;32m    186\u001B[0m \u001B[0;34m\u001B[0m\u001B[0m\n\u001B[1;32m    187\u001B[0m     \u001B[0;32mdef\u001B[0m \u001B[0mregister_hook\u001B[0m\u001B[0;34m(\u001B[0m\u001B[0mself\u001B[0m\u001B[0;34m,\u001B[0m \u001B[0mhook\u001B[0m\u001B[0;34m)\u001B[0m\u001B[0;34m:\u001B[0m\u001B[0;34m\u001B[0m\u001B[0;34m\u001B[0m\u001B[0m\n",
      "\u001B[0;32m/usr/local/lib/python3.8/dist-packages/torch/autograd/__init__.py\u001B[0m in \u001B[0;36mbackward\u001B[0;34m(tensors, grad_tensors, retain_graph, create_graph, grad_variables)\u001B[0m\n\u001B[1;32m    123\u001B[0m         \u001B[0mretain_graph\u001B[0m \u001B[0;34m=\u001B[0m \u001B[0mcreate_graph\u001B[0m\u001B[0;34m\u001B[0m\u001B[0;34m\u001B[0m\u001B[0m\n\u001B[1;32m    124\u001B[0m \u001B[0;34m\u001B[0m\u001B[0m\n\u001B[0;32m--> 125\u001B[0;31m     Variable._execution_engine.run_backward(\n\u001B[0m\u001B[1;32m    126\u001B[0m         \u001B[0mtensors\u001B[0m\u001B[0;34m,\u001B[0m \u001B[0mgrad_tensors\u001B[0m\u001B[0;34m,\u001B[0m \u001B[0mretain_graph\u001B[0m\u001B[0;34m,\u001B[0m \u001B[0mcreate_graph\u001B[0m\u001B[0;34m,\u001B[0m\u001B[0;34m\u001B[0m\u001B[0;34m\u001B[0m\u001B[0m\n\u001B[1;32m    127\u001B[0m         allow_unreachable=True)  # allow_unreachable flag\n",
      "\u001B[0;31mKeyboardInterrupt\u001B[0m: "
     ]
    }
   ],
   "source": [
    "learner = Learner(replay_buffer=ReplayBuffer(buf_size=CONFIG['train']['buf_size'], frequency=CONFIG['train']['frequency']))\n",
    "\n",
    "while True:\n",
    "    #\n",
    "    self_play_trajectories = actor()\n",
    "    learner.replay_buffer.add_trajectories(trajectories=self_play_trajectories)\n",
    "    #\n",
    "    learner.train()\n",
    "\n"
   ],
   "metadata": {
    "collapsed": false,
    "pycharm": {
     "name": "#%%\n"
    }
   }
  },
  {
   "cell_type": "code",
   "execution_count": null,
   "outputs": [],
   "source": [
    "6 * 6 * 64"
   ],
   "metadata": {
    "collapsed": false,
    "pycharm": {
     "name": "#%%\n"
    }
   }
  }
 ],
 "metadata": {
  "kernelspec": {
   "name": "pycharm-5a60a1fb",
   "language": "python",
   "display_name": "PyCharm (open_house_edit_pingfeng)"
  },
  "language_info": {
   "codemirror_mode": {
    "name": "ipython",
    "version": 2
   },
   "file_extension": ".py",
   "mimetype": "text/x-python",
   "name": "python",
   "nbconvert_exporter": "python",
   "pygments_lexer": "ipython2",
   "version": "2.7.6"
  }
 },
 "nbformat": 4,
 "nbformat_minor": 0
}